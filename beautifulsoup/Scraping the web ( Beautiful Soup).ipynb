{
 "cells": [
  {
   "cell_type": "code",
   "execution_count": 1,
   "metadata": {},
   "outputs": [],
   "source": [
    "#https://www.dataquest.io/blog/web-scraping-tutorial-python/"
   ]
  },
  {
   "cell_type": "code",
   "execution_count": 9,
   "metadata": {},
   "outputs": [
    {
     "ename": "SyntaxError",
     "evalue": "EOL while scanning string literal (<ipython-input-9-189c5892872d>, line 5)",
     "output_type": "error",
     "traceback": [
      "\u001b[0;36m  File \u001b[0;32m\"<ipython-input-9-189c5892872d>\"\u001b[0;36m, line \u001b[0;32m5\u001b[0m\n\u001b[0;31m    page = requests.get(\"https://www.dataquest.io/blog/web-scraping-tutorial-python\")'\u001b[0m\n\u001b[0m                                                                                     ^\u001b[0m\n\u001b[0;31mSyntaxError\u001b[0m\u001b[0;31m:\u001b[0m EOL while scanning string literal\n"
     ]
    }
   ],
   "source": [
    "\n",
    "\n",
    "# download the web content\n",
    "page = requests.get(\"https://www.dataquest.io/blog/web-scraping-tutorial-python\")'\n",
    "# checking if content is good\n",
    "page"
   ]
  },
  {
   "cell_type": "code",
   "execution_count": 11,
   "metadata": {},
   "outputs": [],
   "source": [
    "from bs4 import BeautifulSoup\n",
    "import requests\n",
    "page = requests.get(\"http://forecast.weather.gov/MapClick.php?lat=37.7772&lon=-122.4168\")\n",
    "soup = BeautifulSoup(page.content, 'html.parser')\n",
    "\n",
    "forcast = soup.find('div',class_='contentArea')\n"
   ]
  },
  {
   "cell_type": "code",
   "execution_count": 12,
   "metadata": {},
   "outputs": [],
   "source": [
    "currentcondition = forcast.find('div',id = 'current-conditions')\n"
   ]
  },
  {
   "cell_type": "code",
   "execution_count": 168,
   "metadata": {},
   "outputs": [
    {
     "name": "stdout",
     "output_type": "stream",
     "text": [
      "<div class=\"pull-left\" id=\"current_conditions-summary\">\n",
      "<p class=\"myforecast-current\">NA</p>\n",
      "<p class=\"myforecast-current-lrg\">56°F</p>\n",
      "<p class=\"myforecast-current-sm\">13°C</p>\n",
      "</div>\n"
     ]
    }
   ],
   "source": [
    "summary = currentcondition.find('div',id = 'current_conditions-summary',class_='pull-left')\n",
    "print(summary)"
   ]
  },
  {
   "cell_type": "code",
   "execution_count": 211,
   "metadata": {
    "scrolled": true
   },
   "outputs": [
    {
     "name": "stdout",
     "output_type": "stream",
     "text": [
      "Farenheit degee : 56°F\n",
      "13°C\n"
     ]
    }
   ],
   "source": [
    "degree = summary.find('p',class_='myforecast-current-lrg')\n",
    "c_degree = summary.find('p',class_='myforecast-current-sm')\n",
    "print('Farenheit degee : ' + degree.get_text())\n",
    "print(c_degree.get_text())"
   ]
  },
  {
   "cell_type": "markdown",
   "metadata": {},
   "source": [
    "# Extract all the information "
   ]
  },
  {
   "cell_type": "code",
   "execution_count": 1,
   "metadata": {},
   "outputs": [
    {
     "ename": "NameError",
     "evalue": "name 'forcast' is not defined",
     "output_type": "error",
     "traceback": [
      "\u001b[0;31m---------------------------------------------------------------------------\u001b[0m",
      "\u001b[0;31mNameError\u001b[0m                                 Traceback (most recent call last)",
      "\u001b[0;32m<ipython-input-1-38723b2023f2>\u001b[0m in \u001b[0;36m<module>\u001b[0;34m()\u001b[0m\n\u001b[0;32m----> 1\u001b[0;31m \u001b[0mday\u001b[0m \u001b[0;34m=\u001b[0m \u001b[0mforcast\u001b[0m\u001b[0;34m.\u001b[0m\u001b[0mselect\u001b[0m\u001b[0;34m(\u001b[0m\u001b[0;34m\".tombstone-container .period-name\"\u001b[0m \u001b[0;34m)\u001b[0m\u001b[0;34m\u001b[0m\u001b[0m\n\u001b[0m\u001b[1;32m      2\u001b[0m \u001b[0mperiods\u001b[0m \u001b[0;34m=\u001b[0m \u001b[0;34m[\u001b[0m\u001b[0mpt\u001b[0m\u001b[0;34m.\u001b[0m\u001b[0mtext\u001b[0m \u001b[0;32mfor\u001b[0m \u001b[0mpt\u001b[0m \u001b[0;32min\u001b[0m \u001b[0mday\u001b[0m\u001b[0;34m]\u001b[0m\u001b[0;34m\u001b[0m\u001b[0m\n\u001b[1;32m      3\u001b[0m \u001b[0mperiods\u001b[0m\u001b[0;34m\u001b[0m\u001b[0m\n\u001b[1;32m      4\u001b[0m \u001b[0mday\u001b[0m\u001b[0;34m\u001b[0m\u001b[0m\n",
      "\u001b[0;31mNameError\u001b[0m: name 'forcast' is not defined"
     ]
    }
   ],
   "source": [
    "day = forcast.select(\".tombstone-container .period-name\" )\n",
    "periods = [pt.text for pt in day]\n",
    "periods\n"
   ]
  },
  {
   "cell_type": "code",
   "execution_count": 224,
   "metadata": {},
   "outputs": [
    {
     "name": "stdout",
     "output_type": "stream",
     "text": [
      "<type 'list'>\n"
     ]
    }
   ],
   "source": [
    "shortdesc = forcast.select(\".tombstone-container .short-desc\")\n",
    "\n",
    "description = [d.text for d in shortdesc]\n",
    "print description\n"
   ]
  },
  {
   "cell_type": "code",
   "execution_count": 227,
   "metadata": {},
   "outputs": [
    {
     "name": "stdout",
     "output_type": "stream",
     "text": [
      "             Day                               Description\n",
      "0          Today                 Sunny thenSunny andBreezy\n",
      "1        Tonight                   PatchyDrizzle andBreezy\n",
      "2       Saturday     Breezy.PatchyDrizzle thenMostly Sunny\n",
      "3  SaturdayNight  Partly Cloudyand Breezythen PartlyCloudy\n",
      "4         Sunday                                     Sunny\n",
      "5    SundayNight                                     Clear\n",
      "6         Monday                                     Sunny\n",
      "7    MondayNight                             Partly Cloudy\n",
      "8        Tuesday                                     Sunny\n"
     ]
    }
   ],
   "source": [
    "import pandas as pd\n",
    "\n",
    "test = pd.DataFrame({'Day':periods,\n",
    "                        'Description' : description\n",
    "                       })\n",
    "\n",
    "\n",
    "print(test)"
   ]
  },
  {
   "cell_type": "markdown",
   "metadata": {},
   "source": []
  },
  {
   "cell_type": "code",
   "execution_count": null,
   "metadata": {},
   "outputs": [],
   "source": []
  },
  {
   "cell_type": "markdown",
   "metadata": {},
   "source": [
    "# Another example using beautiful soup"
   ]
  },
  {
   "cell_type": "code",
   "execution_count": 5,
   "metadata": {},
   "outputs": [],
   "source": [
    "# https://www.dataquest.io/blog/web-scraping-beautifulsoup/\n",
    "# https://www.imdb.com/search/title?release_date=2017&sort=num_votes,desc&page=2&ref_=adv_nxt"
   ]
  },
  {
   "cell_type": "code",
   "execution_count": 6,
   "metadata": {},
   "outputs": [],
   "source": [
    "from bs4 import BeautifulSoup\n",
    "import requests"
   ]
  },
  {
   "cell_type": "code",
   "execution_count": 84,
   "metadata": {},
   "outputs": [
    {
     "data": {
      "text/plain": [
       "<Response [200]>"
      ]
     },
     "execution_count": 84,
     "metadata": {},
     "output_type": "execute_result"
    }
   ],
   "source": [
    "page = requests.get(\"https://www.imdb.com/search/title?release_date=2017&sort=num_votes,desc&page=2&ref_=adv_nxt\")\n",
    "page"
   ]
  },
  {
   "cell_type": "code",
   "execution_count": 89,
   "metadata": {},
   "outputs": [],
   "source": [
    "html_soup = BeautifulSoup(page.content,'html.parser')\n"
   ]
  },
  {
   "cell_type": "code",
   "execution_count": 190,
   "metadata": {},
   "outputs": [
    {
     "name": "stdout",
     "output_type": "stream",
     "text": [
      "<class 'bs4.element.ResultSet'>\n"
     ]
    }
   ],
   "source": [
    "movie_containers = html_soup.find_all('div',class_= 'lister-item mode-advanced')\n",
    "\n",
    "print(type(movie_containers))\n"
   ]
  },
  {
   "cell_type": "code",
   "execution_count": 191,
   "metadata": {},
   "outputs": [
    {
     "name": "stdout",
     "output_type": "stream",
     "text": [
      "<class 'bs4.element.Tag'>\n"
     ]
    }
   ],
   "source": [
    "first_movie = movie_containers[0]\n",
    "print(type(first_movie))\n"
   ]
  },
  {
   "cell_type": "code",
   "execution_count": 55,
   "metadata": {},
   "outputs": [
    {
     "name": "stdout",
     "output_type": "stream",
     "text": [
      "Logan Lucky\n"
     ]
    }
   ],
   "source": [
    "print(first_movie.h3.a.get_text())"
   ]
  },
  {
   "cell_type": "code",
   "execution_count": 25,
   "metadata": {},
   "outputs": [
    {
     "name": "stdout",
     "output_type": "stream",
     "text": [
      "<span class=\"lister-item-year text-muted unbold\">(2017)</span>\n"
     ]
    }
   ],
   "source": [
    "first_year = first_movie.h3.find('span',class_='lister-item-year text-muted unbold')\n",
    "                    \n",
    "print(first_year)"
   ]
  },
  {
   "cell_type": "code",
   "execution_count": 26,
   "metadata": {},
   "outputs": [],
   "source": [
    "firstyear = first_year.get_text()"
   ]
  },
  {
   "cell_type": "code",
   "execution_count": 27,
   "metadata": {},
   "outputs": [
    {
     "name": "stdout",
     "output_type": "stream",
     "text": [
      "(2017)\n"
     ]
    }
   ],
   "source": [
    "print(firstyear)"
   ]
  },
  {
   "cell_type": "code",
   "execution_count": 52,
   "metadata": {},
   "outputs": [],
   "source": [
    "#movie rating\n",
    "#float type\n",
    "float_rating  =  (first_movie.strong.text)"
   ]
  },
  {
   "cell_type": "code",
   "execution_count": 54,
   "metadata": {},
   "outputs": [
    {
     "name": "stdout",
     "output_type": "stream",
     "text": [
      "7.1\n"
     ]
    }
   ],
   "source": [
    "print(float_rating)"
   ]
  },
  {
   "cell_type": "code",
   "execution_count": 39,
   "metadata": {},
   "outputs": [
    {
     "name": "stdout",
     "output_type": "stream",
     "text": [
      "None\n"
     ]
    }
   ],
   "source": [
    "#getting the metascore (inside strong div)"
   ]
  },
  {
   "cell_type": "code",
   "execution_count": 66,
   "metadata": {},
   "outputs": [
    {
     "data": {
      "text/plain": [
       "78"
      ]
     },
     "execution_count": 66,
     "metadata": {},
     "output_type": "execute_result"
    }
   ],
   "source": [
    "megascore = first_movie.find('span',class_='metascore favorable')\n",
    "megascore = int(megascore.text)\n",
    "megascore"
   ]
  },
  {
   "cell_type": "code",
   "execution_count": 74,
   "metadata": {},
   "outputs": [
    {
     "name": "stdout",
     "output_type": "stream",
     "text": [
      "<span data-value=\"83733\" name=\"nv\">83,733</span>\n"
     ]
    }
   ],
   "source": [
    "# the number of votes\n",
    "\n",
    "first_votes = first_movie.find('span',attrs={'name':'nv'})\n",
    "print(first_votes)"
   ]
  },
  {
   "cell_type": "code",
   "execution_count": 75,
   "metadata": {},
   "outputs": [],
   "source": [
    "first_votes = int(first_votes['data-value'])"
   ]
  },
  {
   "cell_type": "code",
   "execution_count": 76,
   "metadata": {},
   "outputs": [
    {
     "data": {
      "text/plain": [
       "83733"
      ]
     },
     "execution_count": 76,
     "metadata": {},
     "output_type": "execute_result"
    }
   ],
   "source": [
    "first_votes"
   ]
  },
  {
   "cell_type": "markdown",
   "metadata": {},
   "source": [
    "# Extract the whole page"
   ]
  },
  {
   "cell_type": "code",
   "execution_count": 77,
   "metadata": {},
   "outputs": [],
   "source": [
    "# https://www.imdb.com/search/title?release_date=2017&sort=num_votes,desc&page=2&ref_=adv_nxt"
   ]
  },
  {
   "cell_type": "code",
   "execution_count": 138,
   "metadata": {},
   "outputs": [],
   "source": [
    "# Lists to store the data\n",
    "names = []\n",
    "years = []\n",
    "imdb_ratings = []\n",
    "metascores = []\n",
    "votes = []\n",
    "\n",
    "# Extract data from individual movie container\n",
    "for container in movie_containers:\n",
    "    \n",
    "    # if the movie has Metascores then extract\n",
    "    if container.find('div', class_ = 'ratings-metascore') is not None:\n",
    "        \n",
    "        # the name\n",
    "        name = container.h3.a.text\n",
    "        names.append(name)\n",
    "       # the year\n",
    "        year = container.h3.find('span',class_='lister-item-year').text\n",
    "        years.append(year)\n",
    "        \n",
    "        #imdb \n",
    "        imdb = (container.strong.text)\n",
    "        imdb_ratings.append(imdb)\n",
    "        \n",
    "        # metascore\n",
    "        \n",
    "        metascore = container.find('span',class_='metascore').text\n",
    "        metascores.append(int(metascore))\n",
    "        \n",
    "        # The number of votes\n",
    "        vote = container.find('span', attrs = {'name':'nv'})['data-value']\n",
    "        votes.append(int(vote))"
   ]
  },
  {
   "cell_type": "code",
   "execution_count": 140,
   "metadata": {},
   "outputs": [
    {
     "name": "stdout",
     "output_type": "stream",
     "text": [
      "   imdb  metascore                         movie  votes        year\n",
      "0   7.1         78                   Logan Lucky  83829      (2017)\n",
      "1   6.0         44                 Power Rangers  82546      (2017)\n",
      "2   7.2         67              T2 Trainspotting  82121      (2017)\n",
      "3   7.5         76           The Disaster Artist  80834      (2017)\n",
      "4   6.3         50                 The Boss Baby  79503      (2017)\n",
      "5   8.0         66                        Wonder  76978  (I) (2017)\n",
      "6   7.2         83                      The Post  74498      (2017)\n",
      "7   6.3         49               Despicable Me 3  74409      (2017)\n",
      "8   4.6         33           Fifty Shades Darker  72203      (2017)\n",
      "9   6.6         62           Annabelle: Creation  70421      (2017)\n",
      "10  5.2         42    xXx: Return of Xander Cage  69752      (2017)\n",
      "11  7.6         60                        Gifted  67719      (2017)\n",
      "12  7.5         71                  Molly's Game  66597      (2017)\n",
      "13  6.9         47       What Happened to Monday  64778      (2017)\n",
      "14  7.0         55                 The Foreigner  64765      (2017)\n",
      "15  5.3         43                    The Circle  61769  (I) (2017)\n",
      "16  7.1         73  The Killing of a Sacred Deer  61706      (2017)\n",
      "17  7.4         75                          Okja  60187      (2017)\n",
      "18  7.6         90                Phantom Thread  59807      (2017)\n",
      "19  5.3         21                      Geostorm  59482      (2017)\n",
      "20  4.6         43                    Death Note  58247      (2017)\n",
      "21  6.6         50                Going in Style  56731      (2017)\n",
      "22  6.2         78             It Comes at Night  56413      (2017)\n",
      "23  6.5         57               Happy Death Day  56205      (2017)\n",
      "24  7.6         92           The Florida Project  50676      (2017)\n",
      "25  5.7         63                    Downsizing  49443      (2017)\n",
      "26  7.3         59                   Shot Caller  46255      (2017)\n",
      "27  6.8         59                        Cars 3  45871      (2017)\n",
      "28  6.7         77                 Gerald's Game  45720      (2017)\n",
      "29  6.2         45             American Assassin  45065      (2017)\n",
      "30  6.9         43               A Dog's Purpose  44725      (2017)\n",
      "31  5.8         39                        Jigsaw  44021  (I) (2017)\n",
      "32  6.4         48       The Mountain Between Us  41643      (2017)\n",
      "33  3.1         12               The Emoji Movie  39617      (2017)\n"
     ]
    }
   ],
   "source": [
    "import pandas as pd\n",
    "\n",
    "test_df = pd.DataFrame({'movie':names,\n",
    "                        'year' : years,\n",
    "                       'imdb' : imdb_ratings,\n",
    "                       'metascore' : metascores,\n",
    "                        'votes' : votes\n",
    "                       })\n",
    "\n",
    "\n",
    "print(test_df)"
   ]
  },
  {
   "cell_type": "code",
   "execution_count": 149,
   "metadata": {},
   "outputs": [
    {
     "data": {
      "text/html": [
       "<div>\n",
       "<style scoped>\n",
       "    .dataframe tbody tr th:only-of-type {\n",
       "        vertical-align: middle;\n",
       "    }\n",
       "\n",
       "    .dataframe tbody tr th {\n",
       "        vertical-align: top;\n",
       "    }\n",
       "\n",
       "    .dataframe thead th {\n",
       "        text-align: right;\n",
       "    }\n",
       "</style>\n",
       "<table border=\"1\" class=\"dataframe\">\n",
       "  <thead>\n",
       "    <tr style=\"text-align: right;\">\n",
       "      <th></th>\n",
       "      <th>imdb</th>\n",
       "      <th>metascore</th>\n",
       "      <th>movie</th>\n",
       "      <th>votes</th>\n",
       "      <th>year</th>\n",
       "    </tr>\n",
       "  </thead>\n",
       "  <tbody>\n",
       "    <tr>\n",
       "      <th>1</th>\n",
       "      <td>6.0</td>\n",
       "      <td>44</td>\n",
       "      <td>Power Rangers</td>\n",
       "      <td>82546</td>\n",
       "      <td>(2017)</td>\n",
       "    </tr>\n",
       "    <tr>\n",
       "      <th>7</th>\n",
       "      <td>6.3</td>\n",
       "      <td>49</td>\n",
       "      <td>Despicable Me 3</td>\n",
       "      <td>74409</td>\n",
       "      <td>(2017)</td>\n",
       "    </tr>\n",
       "    <tr>\n",
       "      <th>8</th>\n",
       "      <td>4.6</td>\n",
       "      <td>33</td>\n",
       "      <td>Fifty Shades Darker</td>\n",
       "      <td>72203</td>\n",
       "      <td>(2017)</td>\n",
       "    </tr>\n",
       "    <tr>\n",
       "      <th>10</th>\n",
       "      <td>5.2</td>\n",
       "      <td>42</td>\n",
       "      <td>xXx: Return of Xander Cage</td>\n",
       "      <td>69752</td>\n",
       "      <td>(2017)</td>\n",
       "    </tr>\n",
       "    <tr>\n",
       "      <th>13</th>\n",
       "      <td>6.9</td>\n",
       "      <td>47</td>\n",
       "      <td>What Happened to Monday</td>\n",
       "      <td>64778</td>\n",
       "      <td>(2017)</td>\n",
       "    </tr>\n",
       "    <tr>\n",
       "      <th>15</th>\n",
       "      <td>5.3</td>\n",
       "      <td>43</td>\n",
       "      <td>The Circle</td>\n",
       "      <td>61769</td>\n",
       "      <td>(I) (2017)</td>\n",
       "    </tr>\n",
       "    <tr>\n",
       "      <th>19</th>\n",
       "      <td>5.3</td>\n",
       "      <td>21</td>\n",
       "      <td>Geostorm</td>\n",
       "      <td>59482</td>\n",
       "      <td>(2017)</td>\n",
       "    </tr>\n",
       "    <tr>\n",
       "      <th>20</th>\n",
       "      <td>4.6</td>\n",
       "      <td>43</td>\n",
       "      <td>Death Note</td>\n",
       "      <td>58247</td>\n",
       "      <td>(2017)</td>\n",
       "    </tr>\n",
       "    <tr>\n",
       "      <th>29</th>\n",
       "      <td>6.2</td>\n",
       "      <td>45</td>\n",
       "      <td>American Assassin</td>\n",
       "      <td>45065</td>\n",
       "      <td>(2017)</td>\n",
       "    </tr>\n",
       "    <tr>\n",
       "      <th>30</th>\n",
       "      <td>6.9</td>\n",
       "      <td>43</td>\n",
       "      <td>A Dog's Purpose</td>\n",
       "      <td>44725</td>\n",
       "      <td>(2017)</td>\n",
       "    </tr>\n",
       "    <tr>\n",
       "      <th>31</th>\n",
       "      <td>5.8</td>\n",
       "      <td>39</td>\n",
       "      <td>Jigsaw</td>\n",
       "      <td>44021</td>\n",
       "      <td>(I) (2017)</td>\n",
       "    </tr>\n",
       "    <tr>\n",
       "      <th>32</th>\n",
       "      <td>6.4</td>\n",
       "      <td>48</td>\n",
       "      <td>The Mountain Between Us</td>\n",
       "      <td>41643</td>\n",
       "      <td>(2017)</td>\n",
       "    </tr>\n",
       "    <tr>\n",
       "      <th>33</th>\n",
       "      <td>3.1</td>\n",
       "      <td>12</td>\n",
       "      <td>The Emoji Movie</td>\n",
       "      <td>39617</td>\n",
       "      <td>(2017)</td>\n",
       "    </tr>\n",
       "  </tbody>\n",
       "</table>\n",
       "</div>"
      ],
      "text/plain": [
       "   imdb  metascore                       movie  votes        year\n",
       "1   6.0         44               Power Rangers  82546      (2017)\n",
       "7   6.3         49             Despicable Me 3  74409      (2017)\n",
       "8   4.6         33         Fifty Shades Darker  72203      (2017)\n",
       "10  5.2         42  xXx: Return of Xander Cage  69752      (2017)\n",
       "13  6.9         47     What Happened to Monday  64778      (2017)\n",
       "15  5.3         43                  The Circle  61769  (I) (2017)\n",
       "19  5.3         21                    Geostorm  59482      (2017)\n",
       "20  4.6         43                  Death Note  58247      (2017)\n",
       "29  6.2         45           American Assassin  45065      (2017)\n",
       "30  6.9         43             A Dog's Purpose  44725      (2017)\n",
       "31  5.8         39                      Jigsaw  44021  (I) (2017)\n",
       "32  6.4         48     The Mountain Between Us  41643      (2017)\n",
       "33  3.1         12             The Emoji Movie  39617      (2017)"
      ]
     },
     "execution_count": 149,
     "metadata": {},
     "output_type": "execute_result"
    }
   ],
   "source": [
    "test_df[test_df.metascore <50]"
   ]
  },
  {
   "cell_type": "code",
   "execution_count": null,
   "metadata": {},
   "outputs": [],
   "source": []
  },
  {
   "cell_type": "code",
   "execution_count": null,
   "metadata": {},
   "outputs": [],
   "source": []
  },
  {
   "cell_type": "code",
   "execution_count": null,
   "metadata": {},
   "outputs": [],
   "source": []
  },
  {
   "cell_type": "code",
   "execution_count": null,
   "metadata": {},
   "outputs": [],
   "source": []
  },
  {
   "cell_type": "code",
   "execution_count": null,
   "metadata": {},
   "outputs": [],
   "source": []
  }
 ],
 "metadata": {
  "kernelspec": {
   "display_name": "Python 2",
   "language": "python",
   "name": "python2"
  },
  "language_info": {
   "codemirror_mode": {
    "name": "ipython",
    "version": 2
   },
   "file_extension": ".py",
   "mimetype": "text/x-python",
   "name": "python",
   "nbconvert_exporter": "python",
   "pygments_lexer": "ipython2",
   "version": "2.7.14"
  }
 },
 "nbformat": 4,
 "nbformat_minor": 2
}
