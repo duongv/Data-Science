{
 "cells": [
  {
   "cell_type": "markdown",
   "metadata": {},
   "source": [
    "# Statistical Hypothesis Testing\n"
   ]
  },
  {
   "cell_type": "code",
   "execution_count": 1,
   "metadata": {},
   "outputs": [],
   "source": [
    "# In the classical setup, we have a null hypothesis Ho that represents default position\n",
    "# and some alternative hypothesis H1 that we'd like to compare it with. We use statistics \n",
    "# to decide whether we can reject Ho as false or not."
   ]
  },
  {
   "cell_type": "markdown",
   "metadata": {},
   "source": [
    "# Example : Flipping a Coin"
   ]
  },
  {
   "cell_type": "code",
   "execution_count": 2,
   "metadata": {},
   "outputs": [],
   "source": [
    "# Imagine we have a coin and we want to test whether it's fair. We'll make the assumption\n",
    "# that the coin has some p of landing heads,and \n",
    "# NULL  hypothesis p =0.5   Ha : p != 0.5\n",
    "\n",
    "# Our test will involve flipping the coin some number n times and counting the # of \n",
    "# heads.\n",
    "# Each coin flip is a Bernoulli trial, which means that X is a Binomial(n.p) random var."
   ]
  },
  {
   "cell_type": "code",
   "execution_count": 3,
   "metadata": {},
   "outputs": [],
   "source": [
    "def normal_approximation_to_binomial(n,p):\n",
    "    #finds mu and sigma corresponding to a Binomial(n,p)\n",
    "    mu = p * n\n",
    "    sigma = math.sqrt(p *(1-p ) * n )\n",
    "    return mu,sigma\n"
   ]
  },
  {
   "cell_type": "code",
   "execution_count": 4,
   "metadata": {},
   "outputs": [],
   "source": [
    "# Whenever a random var follows a normal distribution, we can use normal_cdf to figure out \n",
    "# the p that its realized value lies within (or outside) a particular interval."
   ]
  },
  {
   "cell_type": "code",
   "execution_count": 5,
   "metadata": {},
   "outputs": [],
   "source": [
    "# the normal cdf is the probability the var is below a threshold\n",
    "        normal_probability_below = normal_cdf\n",
    "\n",
    "# It 's above the threshold if it is not below the threshold\n",
    "        "
   ]
  },
  {
   "cell_type": "code",
   "execution_count": null,
   "metadata": {},
   "outputs": [],
   "source": []
  }
 ],
 "metadata": {
  "kernelspec": {
   "display_name": "Python 2",
   "language": "python",
   "name": "python2"
  },
  "language_info": {
   "codemirror_mode": {
    "name": "ipython",
    "version": 2
   },
   "file_extension": ".py",
   "mimetype": "text/x-python",
   "name": "python",
   "nbconvert_exporter": "python",
   "pygments_lexer": "ipython2",
   "version": "2.7.14"
  }
 },
 "nbformat": 4,
 "nbformat_minor": 2
}
