{
 "cells": [
  {
   "cell_type": "markdown",
   "metadata": {},
   "source": [
    "# Visualization"
   ]
  },
  {
   "cell_type": "code",
   "execution_count": 1,
   "metadata": {},
   "outputs": [],
   "source": [
    "from matplotlib import pyplot as plt "
   ]
  },
  {
   "cell_type": "code",
   "execution_count": 2,
   "metadata": {},
   "outputs": [],
   "source": [
    "years = [1950,1960,1970,1980,1990,2000,2010]\n",
    "gdp = [300,543,1075,2862,5979,10289,14958]"
   ]
  },
  {
   "cell_type": "code",
   "execution_count": null,
   "metadata": {},
   "outputs": [],
   "source": []
  },
  {
   "cell_type": "code",
   "execution_count": 4,
   "metadata": {},
   "outputs": [
    {
     "data": {
      "text/plain": [
       "Text(0,0.5,u'Billions')"
      ]
     },
     "execution_count": 4,
     "metadata": {},
     "output_type": "execute_result"
    },
    {
     "data": {
      "image/png": "[encoded data removed]",
      "text/plain": [
       "<matplotlib.figure.Figure at 0x10ae80050>"
      ]
     },
     "metadata": {},
     "output_type": "display_data"
    }
   ],
   "source": [
    "# create a line chart, year on x-axix , gdp on y-axis\n",
    "plt.plot(years,gdp,marker = '+', ls = '--')\n",
    "plt.ylabel(\"Billions\")"
   ]
  },
  {
   "cell_type": "markdown",
   "metadata": {},
   "source": [
    "# Bar Charts"
   ]
  },
  {
   "cell_type": "code",
   "execution_count": null,
   "metadata": {},
   "outputs": [],
   "source": [
    "# A bar chart is a good choice when you want to show how \n",
    "#some quantity varies among some discrete set of items."
   ]
  },
  {
   "cell_type": "code",
   "execution_count": 5,
   "metadata": {},
   "outputs": [],
   "source": [
    "movies = ['x','y','a','b','c']\n",
    "num_oscars = [1,2,3,4,5]"
   ]
  },
  {
   "cell_type": "code",
   "execution_count": 15,
   "metadata": {},
   "outputs": [],
   "source": [
    "#bars are by default width 0.8, so we will add 0.1 to the left coordinate\n",
    "xs = [i for i, _ in enumerate(movies)]\n"
   ]
  },
  {
   "cell_type": "code",
   "execution_count": 7,
   "metadata": {},
   "outputs": [
    {
     "data": {
      "text/plain": [
       "Text(0.5,1,u'My Favourite Movies')"
      ]
     },
     "execution_count": 7,
     "metadata": {},
     "output_type": "execute_result"
    },
    {
     "data": {
      "image/png": "[encoded data removed]",
      "text/plain": [
       "<matplotlib.figure.Figure at 0x10e34ea90>"
      ]
     },
     "metadata": {},
     "output_type": "display_data"
    }
   ],
   "source": [
    "plt.bar(movies,num_oscars) # (x-asix , y- axis)\n",
    "plt.ylabel(\"# of oscars\")\n",
    "plt.title(\"My Favourite Movies\")\n",
    "\n"
   ]
  },
  {
   "cell_type": "code",
   "execution_count": 7,
   "metadata": {},
   "outputs": [],
   "source": [
    "#A bar chart can also be a good choice for plotting histograms of bucketed numeric values,\n",
    "#in order to visually explore how the values are distributed,"
   ]
  },
  {
   "cell_type": "code",
   "execution_count": 9,
   "metadata": {},
   "outputs": [],
   "source": [
    "#When creating bar charts it is considered especially\n",
    "#bad form for your y-axis not to start at 0, since this is an easy way to mislead people"
   ]
  },
  {
   "cell_type": "code",
   "execution_count": 11,
   "metadata": {},
   "outputs": [
    {
     "data": {
      "image/png": "[encoded data removed]",
      "text/plain": [
       "<matplotlib.figure.Figure at 0x10e5c5f50>"
      ]
     },
     "metadata": {},
     "output_type": "display_data"
    }
   ],
   "source": [
    "mentions = [500, 505]\n",
    "years = [2013, 2014]\n",
    "plt.bar([2012.6, 2013.6], mentions, 0.8)\n",
    "plt.xticks(years)\n",
    "plt.ylabel(\"# of times I heard someone say 'data science'\")\n",
    "\n",
    "# if you don't do this, matplotlib will label the x-axis 0, 1\n",
    "# and then add a +2.013e3 off in the corner (bad matplotlib!)\n",
    "plt.ticklabel_format(useOffset=False)\n",
    "# misleading y-axis only shows the part above 500\n",
    "plt.axis([2012.5,2014.5,499,506])\n",
    "plt.title(\"Look at the 'Huge' Increase!\")\n",
    "plt.show()"
   ]
  },
  {
   "cell_type": "markdown",
   "metadata": {},
   "source": [
    "# LineChart"
   ]
  },
  {
   "cell_type": "code",
   "execution_count": 25,
   "metadata": {},
   "outputs": [
    {
     "data": {
      "text/plain": [
       "<generator object <genexpr> at 0x10e66f9b0>"
      ]
     },
     "execution_count": 25,
     "metadata": {},
     "output_type": "execute_result"
    }
   ],
   "source": [
    "variance = [1,2,4,8,16,32,64,128,256]\n",
    "bias_squared = [256,128,64,32,16,8,4,2,1]\n",
    "total_error = [x+y for x,y in zip(variance,bias_squared)]\n",
    "xs = [i for i, _ in enumerate(variance)]\n",
    "\n",
    "#we can make multiple calls to plt.plot\n",
    "#to show multiple series on the same chart\n",
    "\n",
    "plt.plot(xs,variance, 'g-', label = 'variance')   #green solid line\n",
    "#plt.plot(xs,bias_squared,'r-.', label = 'bias squared') # red dot line\n",
    "#plt.plot(xs,bias_squared, 'b:',label = 'total error')  #blue dotted line\n",
    "\n",
    "#because we've assigned labels to each series\n",
    "# we can get a legend for free\n",
    "#loc =9 means 'top center'\n",
    "\n",
    "plt.legend(loc=9)\n",
    "plt.title(\"The Bias-Variance Tradeoff\")\n"
   ]
  },
  {
   "cell_type": "code",
   "execution_count": null,
   "metadata": {},
   "outputs": [],
   "source": []
  },
  {
   "cell_type": "markdown",
   "metadata": {},
   "source": [
    "# Scatterplots"
   ]
  },
  {
   "cell_type": "raw",
   "metadata": {},
   "source": [
    "Scatterplot is the right choice for visualizing the relationship between\n",
    "two paired sets of data\n"
   ]
  },
  {
   "cell_type": "code",
   "execution_count": 20,
   "metadata": {},
   "outputs": [
    {
     "data": {
      "text/plain": [
       "Text(0.5,1,u'Daily Minutes vs. Number of Friends')"
      ]
     },
     "execution_count": 20,
     "metadata": {},
     "output_type": "execute_result"
    },
    {
     "data": {
      "image/png": "[encoded data removed]",
      "text/plain": [
       "<matplotlib.figure.Figure at 0x1131d1f90>"
      ]
     },
     "metadata": {},
     "output_type": "display_data"
    }
   ],
   "source": [
    "friends = [70,65,72,63,71,64,60,64,67]\n",
    "minutes = [175,170,205,120,220,130,105,145,190]\n",
    "labels = ['a','b','c','d','e','f','g','h','i']\n",
    "\n",
    "plt.scatter(friends,minutes)\n",
    "\n",
    "#label each point\n",
    "for label, friend_count, minute_count in zip(labels,friends,minutes):\n",
    "        plt.annotate(label,\n",
    "            xy=(friend_count,minute_count),\n",
    "            xytext=(-10,-5),\n",
    "            textcoords='offset points')#‘offset points’\toffset (in points) from the xy value\n",
    "        \n",
    "plt.ylabel(\"daily minutes on the site\")\n",
    "plt.xlabel(\"number of friends\")\n",
    "plt.title(\"Daily Minutes vs. Number of Friends\")"
   ]
  },
  {
   "cell_type": "markdown",
   "metadata": {},
   "source": [
    "# Another example for scatter plot"
   ]
  },
  {
   "cell_type": "raw",
   "metadata": {},
   "source": [
    "If you are scattering vars, you might get a misleading picture\n",
    "if you let matplotlib choose the scale."
   ]
  },
  {
   "cell_type": "code",
   "execution_count": 24,
   "metadata": {},
   "outputs": [
    {
     "data": {
      "text/plain": [
       "Text(0.5,1,u'Axes are not comparable')"
      ]
     },
     "execution_count": 24,
     "metadata": {},
     "output_type": "execute_result"
    },
    {
     "data": {
      "image/png": "[encoded data removed]",
      "text/plain": [
       "<matplotlib.figure.Figure at 0x112553ed0>"
      ]
     },
     "metadata": {},
     "output_type": "display_data"
    }
   ],
   "source": [
    "test_1_grade = [99,90,85,97,80]\n",
    "test_2_grade = [100,85,60,90,70]\n",
    "\n",
    "plt.scatter(test_1_grade,test_2_grade)\n",
    "plt.xlabel(\"test 1 grade\")\n",
    "plt.ylabel(\"test 2 grade\")\n",
    "plt.title(\"Axes are not comparable\")"
   ]
  },
  {
   "cell_type": "raw",
   "metadata": {},
   "source": [
    "If we include a call to plt.axis(\"equal\"), the plot is more accurate.\n"
   ]
  },
  {
   "cell_type": "code",
   "execution_count": 33,
   "metadata": {},
   "outputs": [
    {
     "data": {
      "text/plain": [
       "(79.04014336917562, 99.95985663082439, 57.98482339955849, 102.01517660044149)"
      ]
     },
     "execution_count": 33,
     "metadata": {},
     "output_type": "execute_result"
    },
    {
     "data": {
      "image/png": "[encoded data removed]",
      "text/plain": [
       "<matplotlib.figure.Figure at 0x10eea28d0>"
      ]
     },
     "metadata": {},
     "output_type": "display_data"
    }
   ],
   "source": [
    "test_1_grade = [99,90,85,97,80]\n",
    "test_2_grade = [100,85,60,90,70]\n",
    "\n",
    "plt.scatter(test_1_grade,test_2_grade)\n",
    "plt.xlabel(\"test 1 grade\")\n",
    "plt.ylabel(\"test 2 grade\")\n",
    "plt.title(\"Axes are comparable\")\n",
    "plt.axis(\"equal\")"
   ]
  },
  {
   "cell_type": "code",
   "execution_count": null,
   "metadata": {},
   "outputs": [],
   "source": []
  }
 ],
 "metadata": {
  "kernelspec": {
   "display_name": "Python 2",
   "language": "python",
   "name": "python2"
  },
  "language_info": {
   "codemirror_mode": {
    "name": "ipython",
    "version": 2
   },
   "file_extension": ".py",
   "mimetype": "text/x-python",
   "name": "python",
   "nbconvert_exporter": "python",
   "pygments_lexer": "ipython2",
   "version": "2.7.14"
  }
 },
 "nbformat": 4,
 "nbformat_minor": 2
}
